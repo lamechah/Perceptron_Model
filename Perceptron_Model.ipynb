{
  "nbformat": 4,
  "nbformat_minor": 0,
  "metadata": {
    "colab": {
      "name": "Perceptron_Model.ipynb",
      "provenance": [],
      "collapsed_sections": [
        "nIa69c63Rl8L",
        "L98uPZV1eSwL",
        "x4HyPoYde-vP",
        "o_FYqsM7fISb",
        "Oqn9cIV5eeMv",
        "7Fh6JZBoeoKD",
        "9cqWAFPhf0GO",
        "8zRYpxqsjt4f",
        "7faTPGRMjw5X",
        "8zlv3oyrahM3"
      ],
      "toc_visible": true,
      "authorship_tag": "ABX9TyNpfjigz+w0Wfgml7oXj1M4",
      "include_colab_link": true
    },
    "kernelspec": {
      "name": "python3",
      "display_name": "Python 3"
    }
  },
  "cells": [
    {
      "cell_type": "markdown",
      "metadata": {
        "id": "view-in-github",
        "colab_type": "text"
      },
      "source": [
        "<a href=\"https://colab.research.google.com/github/lamechah/Perceptron_Model/blob/main/Perceptron_Model.ipynb\" target=\"_parent\"><img src=\"https://colab.research.google.com/assets/colab-badge.svg\" alt=\"Open In Colab\"/></a>"
      ]
    },
    {
      "cell_type": "markdown",
      "metadata": {
        "id": "nIa69c63Rl8L"
      },
      "source": [
        "## Step 1: Import and pre-process linearly separable data\n",
        "\n",
        "\n"
      ]
    },
    {
      "cell_type": "code",
      "metadata": {
        "id": "eXTsKUBEfePr"
      },
      "source": [
        "## Import required libraries \n",
        "import pandas as pd\n",
        "import numpy as np\n",
        "import matplotlib.pyplot as plt"
      ],
      "execution_count": null,
      "outputs": []
    },
    {
      "cell_type": "code",
      "metadata": {
        "id": "vOCaK6FgH9i4",
        "outputId": "b97bc2a1-2eee-41d9-f757-6a8f764cfc06",
        "colab": {
          "base_uri": "https://localhost:8080/",
          "height": 326
        }
      },
      "source": [
        "## Get dataset from sharable link\n",
        "! wget \"https://docs.google.com/spreadsheets/d/1rsrAUSWobgIb9Mu0ZN60XOQvOpUHI6_VI-B-PiV1vqw/export?format=csv\""
      ],
      "execution_count": null,
      "outputs": [
        {
          "output_type": "stream",
          "text": [
            "--2020-10-11 03:26:53--  https://docs.google.com/spreadsheets/d/1rsrAUSWobgIb9Mu0ZN60XOQvOpUHI6_VI-B-PiV1vqw/export?format=csv\n",
            "Resolving docs.google.com (docs.google.com)... 173.194.217.101, 173.194.217.102, 173.194.217.100, ...\n",
            "Connecting to docs.google.com (docs.google.com)|173.194.217.101|:443... connected.\n",
            "HTTP request sent, awaiting response... 307 Temporary Redirect\n",
            "Location: https://doc-14-18-sheets.googleusercontent.com/export/l5l039s6ni5uumqbsj9o11lmdc/3iqgj35buadr1g1ljjrskoutrg/1602386810000/100689098553185002241/*/1rsrAUSWobgIb9Mu0ZN60XOQvOpUHI6_VI-B-PiV1vqw?format=csv [following]\n",
            "Warning: wildcards not supported in HTTP.\n",
            "--2020-10-11 03:26:53--  https://doc-14-18-sheets.googleusercontent.com/export/l5l039s6ni5uumqbsj9o11lmdc/3iqgj35buadr1g1ljjrskoutrg/1602386810000/100689098553185002241/*/1rsrAUSWobgIb9Mu0ZN60XOQvOpUHI6_VI-B-PiV1vqw?format=csv\n",
            "Resolving doc-14-18-sheets.googleusercontent.com (doc-14-18-sheets.googleusercontent.com)... 173.194.216.132, 2607:f8b0:400c:c12::84\n",
            "Connecting to doc-14-18-sheets.googleusercontent.com (doc-14-18-sheets.googleusercontent.com)|173.194.216.132|:443... connected.\n",
            "HTTP request sent, awaiting response... 200 OK\n",
            "Length: unspecified [text/csv]\n",
            "Saving to: ‘export?format=csv’\n",
            "\n",
            "export?format=csv       [ <=>                ]  57.39K  --.-KB/s    in 0.03s   \n",
            "\n",
            "2020-10-11 03:26:54 (2.04 MB/s) - ‘export?format=csv’ saved [58769]\n",
            "\n"
          ],
          "name": "stdout"
        }
      ]
    },
    {
      "cell_type": "code",
      "metadata": {
        "id": "Zxg_CjjdgNHM",
        "outputId": "1ad69eeb-c9cc-44d9-a7ed-709e75b09e20",
        "colab": {
          "base_uri": "https://localhost:8080/",
          "height": 204
        }
      },
      "source": [
        "## Read the csv to a Dataframe\n",
        "df = pd.read_csv(\"export?format=csv\")\n",
        "## Explore Data \n",
        "df.info()"
      ],
      "execution_count": null,
      "outputs": [
        {
          "output_type": "stream",
          "text": [
            "<class 'pandas.core.frame.DataFrame'>\n",
            "RangeIndex: 2000 entries, 0 to 1999\n",
            "Data columns (total 4 columns):\n",
            " #   Column  Non-Null Count  Dtype  \n",
            "---  ------  --------------  -----  \n",
            " 0   0       2000 non-null   int64  \n",
            " 1   1       2000 non-null   float64\n",
            " 2   2       2000 non-null   float64\n",
            " 3   3       2000 non-null   int64  \n",
            "dtypes: float64(2), int64(2)\n",
            "memory usage: 62.6 KB\n"
          ],
          "name": "stdout"
        }
      ]
    },
    {
      "cell_type": "code",
      "metadata": {
        "id": "ycPKrQALhVRq",
        "outputId": "53132057-e3a2-4697-b9a7-ecd624e3e6e2",
        "colab": {
          "base_uri": "https://localhost:8080/",
          "height": 51
        }
      },
      "source": [
        "## Re-label classes as -1 OR +1\n",
        "## Replace all 0s for -1 in the y column\n",
        "df['3'] = df['3'].replace(0,-1)\n",
        "print(\"Classes have changed to:\")\n",
        "print(df['3'].unique())"
      ],
      "execution_count": null,
      "outputs": [
        {
          "output_type": "stream",
          "text": [
            "Classes have changed to:\n",
            "[-1  1]\n"
          ],
          "name": "stdout"
        }
      ]
    },
    {
      "cell_type": "markdown",
      "metadata": {
        "id": "B1EMgpSf0e7o"
      },
      "source": [
        "Review if data is linearly separable"
      ]
    },
    {
      "cell_type": "code",
      "metadata": {
        "id": "k-FUm_zgy5zX",
        "outputId": "fba085e9-0e8e-4b8d-be44-5a273f78ad78",
        "colab": {
          "base_uri": "https://localhost:8080/",
          "height": 282
        }
      },
      "source": [
        "##We Plot the values to see if they are linearly separable \n",
        "plt.scatter(df.values[:,1], df.values[:,2], c = df['3'], alpha=0.8)"
      ],
      "execution_count": null,
      "outputs": [
        {
          "output_type": "execute_result",
          "data": {
            "text/plain": [
              "<matplotlib.collections.PathCollection at 0x7fd04cd52358>"
            ]
          },
          "metadata": {
            "tags": []
          },
          "execution_count": 5
        },
        {
          "output_type": "display_data",
          "data": {
            "image/png": "[encoded data removed]",
            "text/plain": [
              "<Figure size 432x288 with 1 Axes>"
            ]
          },
          "metadata": {
            "tags": [],
            "needs_background": "light"
          }
        }
      ]
    },
    {
      "cell_type": "code",
      "metadata": {
        "id": "cp_IDOdefgW3",
        "outputId": "71864b7b-d850-405e-ae0a-28373bd7fa85",
        "colab": {
          "base_uri": "https://localhost:8080/",
          "height": 34
        }
      },
      "source": [
        "## Convert dataframe to  numpy.ndarray \n",
        "ndarray = df.values  \n",
        "## Print new data type\n",
        "print(type(ndarray))            "
      ],
      "execution_count": null,
      "outputs": [
        {
          "output_type": "stream",
          "text": [
            "<class 'numpy.ndarray'>\n"
          ],
          "name": "stdout"
        }
      ]
    },
    {
      "cell_type": "code",
      "metadata": {
        "id": "FQSkabyH2iuY"
      },
      "source": [
        "## Choose a random seed and shuffle the data randomly\n",
        "np.random.seed(5)\n",
        "np.random.shuffle(ndarray)"
      ],
      "execution_count": null,
      "outputs": []
    },
    {
      "cell_type": "code",
      "metadata": {
        "id": "iqlzHkHOfkdp"
      },
      "source": [
        "## Split data into train 70% and test 30%\n",
        "train = ndarray[0:int(0.7*len(ndarray))]\n",
        "test = ndarray[int(0.7*len(ndarray)):int(len(ndarray))]"
      ],
      "execution_count": null,
      "outputs": []
    },
    {
      "cell_type": "code",
      "metadata": {
        "id": "qwG-d8IrfmVf"
      },
      "source": [
        "## Select data attributes as x and target/class column as y for train and test. \n",
        "x_train = train[:, 1:3]\n",
        "y_train = train[:, 3]\n",
        "\n",
        "x_test = test[:, 1:3]\n",
        "y_test = test[:, 3]"
      ],
      "execution_count": null,
      "outputs": []
    },
    {
      "cell_type": "markdown",
      "metadata": {
        "id": "L98uPZV1eSwL"
      },
      "source": [
        "##Step 2: Create Perceptron class "
      ]
    },
    {
      "cell_type": "code",
      "metadata": {
        "id": "Sm7SaIwAMA4v"
      },
      "source": [
        "## Create a class to wrap up the function and parameters\n",
        "class MyBeautifulPerceptron:\n",
        "    ##constructor of the class\n",
        "    def __init__(self):\n",
        "        ##define w \n",
        "        ##apply some random Ws to start\n",
        "        # w is a 2D-vector \n",
        "        self.w = np.array([0.1,-0.5])\n",
        "        ## create some bias - the constant\n",
        "        ## We could have either created the constant here, or add a constant of 1 to the dataset\n",
        "        self.b = 1.0\n",
        "\n",
        "    ##Perceptron function\n",
        "    def predict(self, x_train):\n",
        "        # x is a n x2 Array that represent the data\n",
        "        #Next, we multiply the weights by the inputs, and then sum them up. Another name for this is the “dot product.”    \n",
        "        #We also add bias here\n",
        "        f = (self.w * x_train).sum(axis=1) + self.b ##This is the same as doing ##f = np.dot(w, x)\n",
        "        pred = np.sign(f)\n",
        "        return pred \n",
        "\n",
        "    ##Function to fit the \n",
        "    def fit(self, x_train, y_train, x_test, y_test):\n",
        "        ##Here's how to deal with infinite loop \n",
        "        ##We introduce the number of the first iteration\n",
        "        iterations = 0\n",
        "\n",
        "            ##Create a loop that runs while True\n",
        "        while True:\n",
        "            ##Predictions\n",
        "            pred = self.predict(x_train)\n",
        "            print(\"Predicting...\")\n",
        "            ##Save each hypothesis and calculate which hypothesis is better than the other ##So we have to compare y_train againts the prediction\n",
        "            is_pred_correct = y_train == pred ##Returns true or false\n",
        "            ##Calculate that in a number ##False is zero\n",
        "            train_acc = np.count_nonzero(is_pred_correct)/ (y_train).size\n",
        "            ##Get all the wrong predicton (False values)\n",
        "            is_pred_wrong = np.logical_not (is_pred_correct)\n",
        "            error_indexes = np.nonzero(is_pred_wrong)[0]\n",
        "            print(\"--------\")\n",
        "            print(f'Training Accuracy {train_acc}')\n",
        "            ##Calculate validation accuracy\n",
        "            pred_valid = self.predict(x_test)\n",
        "            valid_acc = np.count_nonzero (pred_valid == y_test) / len(y_test)\n",
        "            print(\"--------\")\n",
        "            print(f'Validation Accuracy {valid_acc}')\n",
        "            ## Catch error if the training is 100% - stop updating ws when there are no errors\n",
        "            if len(error_indexes) > 0:\n",
        "                ##Find where these errors are in the x_train\n",
        "                next_i = error_indexes[0]\n",
        "                ##Update the weights\n",
        "                #Now that we’ve made our prediction, we’re ready to update the weights. \n",
        "                w_new = x_train[next_i] * y_train[next_i]\n",
        "                self.w +=w_new\n",
        "                self.b += y_train[next_i]\n",
        "                print(\"--------\")\n",
        "                print(\"New weights to be calculated\")\n",
        "                print(\"--------\")\n",
        "                #print(self.w)\n",
        "            else:\n",
        "                print(\"********************************\")\n",
        "                print (\"Maximum accuracy obtained\")\n",
        "                print(\"********************************\")\n",
        "\n",
        "                break ##This stops the loop for continuing once the validation gets to 100%"
      ],
      "execution_count": null,
      "outputs": []
    },
    {
      "cell_type": "markdown",
      "metadata": {
        "id": "x4HyPoYde-vP"
      },
      "source": [
        "##Step 3: Fit model to data"
      ]
    },
    {
      "cell_type": "code",
      "metadata": {
        "id": "clJ2FA7VMiPy",
        "outputId": "3f2643ad-063e-4c88-d4b4-6aaee6771427",
        "colab": {
          "base_uri": "https://localhost:8080/",
          "height": 833
        }
      },
      "source": [
        "## Initialise an object of the class\n",
        "perceptron = MyBeautifulPerceptron()\n",
        "## Fit perceptron\n",
        "perceptron.fit(x_train, y_train, x_test, y_test)"
      ],
      "execution_count": null,
      "outputs": [
        {
          "output_type": "stream",
          "text": [
            "Predicting...\n",
            "--------\n",
            "Training Accuracy 0.005714285714285714\n",
            "--------\n",
            "Validation Accuracy 0.005\n",
            "--------\n",
            "New weights to be calculated\n",
            "--------\n",
            "Predicting...\n",
            "--------\n",
            "Training Accuracy 0.22642857142857142\n",
            "--------\n",
            "Validation Accuracy 0.265\n",
            "--------\n",
            "New weights to be calculated\n",
            "--------\n",
            "Predicting...\n",
            "--------\n",
            "Training Accuracy 0.7021428571428572\n",
            "--------\n",
            "Validation Accuracy 0.6633333333333333\n",
            "--------\n",
            "New weights to be calculated\n",
            "--------\n",
            "Predicting...\n",
            "--------\n",
            "Training Accuracy 0.7435714285714285\n",
            "--------\n",
            "Validation Accuracy 0.7466666666666667\n",
            "--------\n",
            "New weights to be calculated\n",
            "--------\n",
            "Predicting...\n",
            "--------\n",
            "Training Accuracy 0.9735714285714285\n",
            "--------\n",
            "Validation Accuracy 0.9666666666666667\n",
            "--------\n",
            "New weights to be calculated\n",
            "--------\n",
            "Predicting...\n",
            "--------\n",
            "Training Accuracy 1.0\n",
            "--------\n",
            "Validation Accuracy 0.9983333333333333\n",
            "********************************\n",
            "Maximum accuracy obtained\n",
            "********************************\n"
          ],
          "name": "stdout"
        }
      ]
    },
    {
      "cell_type": "markdown",
      "metadata": {
        "id": "o_FYqsM7fISb"
      },
      "source": [
        "##Step 4: Analyse results"
      ]
    },
    {
      "cell_type": "markdown",
      "metadata": {
        "id": "TnU2HaJSfY4R"
      },
      "source": [
        "Taking a look at the errors we can see that the error went to 0 around the 6th iteration. For the remainder of the iterations it remained at 0.\n",
        "When the error goes to 0 and stays there, we know that our model has converged. This tells us that our model has correctly “learned” the appropriate weights."
      ]
    },
    {
      "cell_type": "code",
      "metadata": {
        "id": "SMzbVjm4fHk5",
        "outputId": "0f2b1dc5-92d4-42ee-d418-7b9252941834",
        "colab": {
          "base_uri": "https://localhost:8080/",
          "height": 34
        }
      },
      "source": [
        "## Call the predict method for the test data \n",
        "pred_test = perceptron.predict(x_test)\n",
        "test_acc = np.count_nonzero (pred_test == y_test) / len(y_test)\n",
        "print (f\"Test accuracy: {test_acc}\")"
      ],
      "execution_count": null,
      "outputs": [
        {
          "output_type": "stream",
          "text": [
            "Test accuracy: 0.9983333333333333\n"
          ],
          "name": "stdout"
        }
      ]
    },
    {
      "cell_type": "markdown",
      "metadata": {
        "id": "Oqn9cIV5eeMv"
      },
      "source": [
        "##Step 5: Compare againts off-the-shelf implementation"
      ]
    },
    {
      "cell_type": "code",
      "metadata": {
        "id": "e6fMAe_BRSp7"
      },
      "source": [
        "## Import off-the-shelf model\n",
        "\n",
        "from sklearn.linear_model import Perceptron\n",
        "\n",
        "skpercep = Perceptron()"
      ],
      "execution_count": null,
      "outputs": []
    },
    {
      "cell_type": "code",
      "metadata": {
        "id": "sXeZ7qyZRbJe",
        "outputId": "a9430dc0-614e-45f6-921b-23a47c423276",
        "colab": {
          "base_uri": "https://localhost:8080/",
          "height": 85
        }
      },
      "source": [
        "## Fit model to data \n",
        "\n",
        "skpercep.fit(x_train, y_train)"
      ],
      "execution_count": null,
      "outputs": [
        {
          "output_type": "execute_result",
          "data": {
            "text/plain": [
              "Perceptron(alpha=0.0001, class_weight=None, early_stopping=False, eta0=1.0,\n",
              "           fit_intercept=True, max_iter=1000, n_iter_no_change=5, n_jobs=None,\n",
              "           penalty=None, random_state=0, shuffle=True, tol=0.001,\n",
              "           validation_fraction=0.1, verbose=0, warm_start=False)"
            ]
          },
          "metadata": {
            "tags": []
          },
          "execution_count": 14
        }
      ]
    },
    {
      "cell_type": "code",
      "metadata": {
        "id": "0awMbJa4RjOK",
        "outputId": "1ca16735-51d8-4e4b-a78e-2ab723cf6119",
        "colab": {
          "base_uri": "https://localhost:8080/",
          "height": 34
        }
      },
      "source": [
        "## Predict model\n",
        "\n",
        "skpred = skpercep.predict(x_test)\n",
        "\n",
        "sktest_acc = np.count_nonzero (skpred == y_test) / len(y_test)\n",
        "print (f\"Test accuracy according to Sklearn's models: {sktest_acc}\")"
      ],
      "execution_count": null,
      "outputs": [
        {
          "output_type": "stream",
          "text": [
            "Test accuracy according to Sklearn's models: 0.9983333333333333\n"
          ],
          "name": "stdout"
        }
      ]
    },
    {
      "cell_type": "markdown",
      "metadata": {
        "id": "7Fh6JZBoeoKD"
      },
      "source": [
        "## Step 6: Try a non-linearly separable dataset"
      ]
    },
    {
      "cell_type": "markdown",
      "metadata": {
        "id": "SUhYnED1gtaC"
      },
      "source": [
        "Load dataset which is non-linearbly separable"
      ]
    },
    {
      "cell_type": "code",
      "metadata": {
        "id": "ogd5c-LdgyUg"
      },
      "source": [
        "from sklearn.datasets import load_breast_cancer \n",
        "import matplotlib.pyplot as plt\n",
        "\n",
        "##Load data and convert it to DataFrame \n",
        "def load_data(): \n",
        "    cancer = load_breast_cancer()     \n",
        "    data = np.c_[cancer.data, cancer.target]\n",
        "    columns = np.append(cancer.feature_names, [\"target\"])\n",
        "    df = pd.DataFrame(data, columns=columns)\n",
        "\n",
        "    return df"
      ],
      "execution_count": null,
      "outputs": []
    },
    {
      "cell_type": "code",
      "metadata": {
        "id": "m4E8jgTshp_b",
        "outputId": "6619b150-7188-430e-9793-077bd0f73f72",
        "colab": {
          "base_uri": "https://localhost:8080/",
          "height": 34
        }
      },
      "source": [
        "df_nonl = load_data()\n",
        "# Impl-Note: more convenient to use +/-1, rather than 0/1 to represent the \n",
        "# class labels\n",
        "df_nonl['target'] = df_nonl['target'].replace(0,-1)\n",
        "\n",
        "print(df_nonl['target'].unique())\n",
        "\n",
        "# -- this is a common way to replace values in a numpy array"
      ],
      "execution_count": null,
      "outputs": [
        {
          "output_type": "stream",
          "text": [
            "[-1.  1.]\n"
          ],
          "name": "stdout"
        }
      ]
    },
    {
      "cell_type": "code",
      "metadata": {
        "id": "_MWfTXCohy__",
        "outputId": "38472983-b200-4ec0-ba18-df650ed6cdc7",
        "colab": {
          "base_uri": "https://localhost:8080/",
          "height": 282
        }
      },
      "source": [
        "plt.scatter(df_nonl.values[:,1], df_nonl.values[:,2], c = df_nonl['target'], alpha=0.8)"
      ],
      "execution_count": null,
      "outputs": [
        {
          "output_type": "execute_result",
          "data": {
            "text/plain": [
              "<matplotlib.collections.PathCollection at 0x7fd03f0b5f98>"
            ]
          },
          "metadata": {
            "tags": []
          },
          "execution_count": 18
        },
        {
          "output_type": "display_data",
          "data": {
            "image/png": "[encoded data removed]",
            "text/plain": [
              "<Figure size 432x288 with 1 Axes>"
            ]
          },
          "metadata": {
            "tags": [],
            "needs_background": "light"
          }
        }
      ]
    },
    {
      "cell_type": "code",
      "metadata": {
        "id": "CZbmyKmLh6c5"
      },
      "source": [
        "## Split data 70% - 30%\n",
        "\n",
        "train_nonl = df_nonl[0:int(0.7*len(df_nonl))]\n",
        "test_nonl = df_nonl[int(0.7*len(df_nonl)):int(len(df_nonl))]\n",
        "\n",
        "\n",
        "x_train_nonl = train_nonl.iloc[:, 1:3].values\n",
        "y_train_nonl = train_nonl.iloc[:, 30].values\n",
        "\n",
        "x_test_nonl = test_nonl.iloc[:, 1:3].values\n",
        "y_test_nonl = test_nonl.iloc[:, 30].values"
      ],
      "execution_count": null,
      "outputs": []
    },
    {
      "cell_type": "code",
      "metadata": {
        "id": "_6mM2pn-iKzQ"
      },
      "source": [
        "import matplotlib.pyplot as plt\n",
        "def viz_hypo(score_func, pred_func, X_samples, y_samples):\n",
        "    \"\"\"\n",
        "    X_samples is to provide a range\n",
        "    \"\"\"\n",
        "    # visualisation of the model behaviour\n",
        "    x0_min, x1_min = np.min(X_samples, axis=0)\n",
        "    x0_max, x1_max = np.max(X_samples, axis=0)\n",
        "\n",
        "    xx, yy = np.meshgrid(np.arange(x0_min - 0.1, x0_max + 0.1, 0.02),\n",
        "                        np.arange(x1_min - 0.1, x1_max + 0.1, 0.02))\n",
        "    \n",
        "    grid_coord = np.stack((xx.flatten(), yy.flatten())).T\n",
        "    zz_c = pred_func(grid_coord).reshape(xx.shape)\n",
        "    zz_v = score_func(grid_coord).reshape(xx.shape)\n",
        "\n",
        "    fig1, ax1 = plt.subplots(constrained_layout=True)\n",
        "    C = ax1.contourf(xx, yy, zz_v) \n",
        "    C2 = ax1.contour(xx, yy, zz_v, colors=('k', ), linewidths=2)\n",
        "    ax1.clabel(C2, inline=True, fontsize=10)\n",
        "\n",
        "    fig2, ax2 = plt.subplots(constrained_layout=True)\n",
        "    C = ax2.contourf(xx, yy, zz_c) \n",
        "    C2 = ax2.contour(xx, yy, zz_c, colors=('k', ), linewidths=2)\n",
        "    ax2.clabel(C2, inline=True, fontsize=10)\n",
        "\n",
        "    # Draw the training samples\n",
        "    ax1.scatter(X_samples[:, 0], X_samples[:, 1], c=y_samples, linewidth=1, edgecolor='k')\n",
        "    ax2.scatter(X_samples[:, 0], X_samples[:, 1], c=y_samples, linewidth=1, edgecolor='k')\n",
        "    plt.show()"
      ],
      "execution_count": null,
      "outputs": []
    },
    {
      "cell_type": "code",
      "metadata": {
        "id": "fXswMZdBiLoM",
        "outputId": "6c752fee-cb0d-4ac4-a9f3-1bef7cbf8c03",
        "colab": {
          "base_uri": "https://localhost:8080/",
          "height": 626
        }
      },
      "source": [
        "# just throw in a random classifier to test visualisation\n",
        "tmp_p = lambda x_train_nonl: x_train_nonl[:, 0] - 5.5\n",
        "viz_hypo(tmp_p, lambda x_train_nonl:tmp_p(x_train_nonl) > 0, x_train_nonl, y_train_nonl)"
      ],
      "execution_count": null,
      "outputs": [
        {
          "output_type": "stream",
          "text": [
            "/usr/local/lib/python3.6/dist-packages/ipykernel_launcher.py:24: UserWarning: No contour levels were found within the data range.\n"
          ],
          "name": "stderr"
        },
        {
          "output_type": "display_data",
          "data": {
            "image/png": "[encoded data removed]",
            "text/plain": [
              "<Figure size 432x288 with 1 Axes>"
            ]
          },
          "metadata": {
            "tags": [],
            "needs_background": "light"
          }
        },
        {
          "output_type": "display_data",
          "data": {
            "image/png": "[encoded data removed]",
            "text/plain": [
              "<Figure size 432x288 with 1 Axes>"
            ]
          },
          "metadata": {
            "tags": [],
            "needs_background": "light"
          }
        }
      ]
    },
    {
      "cell_type": "markdown",
      "metadata": {
        "id": "9cqWAFPhf0GO"
      },
      "source": [
        "## Step 7 : Solve infinite loop by adding max iteration condition"
      ]
    },
    {
      "cell_type": "markdown",
      "metadata": {
        "id": "bOMyIej9KYxi"
      },
      "source": [
        "Infinite loop question \n",
        "The algorithm ends when the 100% train accuracy is achieved. If i cannot use a strainght line to separate samples then this algorithm will end up in a infinit loop - like what happened to when I tried to run this notebook: https://colab.research.google.com/drive/1goAjQxFNS_KbkPByuEqsVLC2zWr5agEJ?usp=sharing\n",
        "\n",
        "What could be the solution for that problem? In this example I dealt with it by adding a maximun number of iterations to the loop. This avoids follwing into the infinite loop"
      ]
    },
    {
      "cell_type": "code",
      "metadata": {
        "id": "WQiBOFIXfupF"
      },
      "source": [
        "## Create an enviromental constant to limit iterations \n",
        "MAX_ITERATIONS = 100\n",
        "\n",
        "## Create a class to wrap up the function and parameters\n",
        "class NonLinearPerceptron:\n",
        "    ##constructor of the class\n",
        "    def __init__(self):\n",
        "        ##define w \n",
        "        ##apply some random Ws to start\n",
        "        # w is a 2-vector \n",
        "        self.w = np.array([0.1,-0.5])\n",
        "        ## create some bias - the constant\n",
        "        ## We could have either created the constant here, or add a constant of 1 to the dataset\n",
        "        self.b = 1.0\n",
        "\n",
        "    ##Perceptron function\n",
        "    def predict(self, x_train):\n",
        "        # x is a n x2 Array that represent the data\n",
        "        #Next, we multiply the weights by the inputs, and then sum them up. Another name for this is the “dot product.”    \n",
        "        #We also add bias here\n",
        "        f = (self.w * x_train).sum(axis=1) + self.b ##This is the same as doing ##f = np.dot(w, x)\n",
        "        pred = np.sign(f)\n",
        "        return pred \n",
        "\n",
        "    ##Function to fit the \n",
        "    def fit(self, x_train, y_train, x_test, y_test):\n",
        "        ##Here's how to deal with infinite loop \n",
        "        ##We introduce the number of the first iteration\n",
        "        iterations = 0\n",
        "\n",
        "            ##Create a loop that runs while True\n",
        "        while True:\n",
        "            ##Predictions\n",
        "            pred = self.predict(x_train)\n",
        "            print(\"Predicting...\")\n",
        "            ##Save each hypothesis and calculate which hypothesis is better than the other ##So we have to compare y_train againts the prediction\n",
        "            is_pred_correct = y_train == pred ##Returns true or false\n",
        "            ##Calculate that in a number ##False is zero\n",
        "            train_acc = np.count_nonzero(is_pred_correct)/ (y_train).size\n",
        "            ##Get all the wrong predicton (False values)\n",
        "            is_pred_wrong = np.logical_not (is_pred_correct)\n",
        "            error_indexes = np.nonzero(is_pred_wrong)[0]\n",
        "            print(\"--------\")\n",
        "            print(f'Training Accuracy {train_acc}')\n",
        "            ##Calculate validation accuracy\n",
        "            pred_valid = self.predict(x_test)\n",
        "            valid_acc = np.count_nonzero (pred_valid == y_test) / len(y_test)\n",
        "            print(\"--------\")\n",
        "            print(f'Validation Accuracy {valid_acc}')\n",
        "            ## Catch error if the training is 100% - stop updating ws when there are no errors\n",
        "            if len(error_indexes) > 0:\n",
        "                ##Find where these errors are in the x_train\n",
        "                next_i = error_indexes[0]\n",
        "                ##Update the weights\n",
        "                #Now that we’ve made our prediction, we’re ready to update the weights. \n",
        "                w_new = x_train[next_i] * y_train[next_i]\n",
        "                self.w +=w_new\n",
        "                self.b += y_train[next_i]\n",
        "                print(\"--------\")\n",
        "                print(\"New weights to be calculated\")\n",
        "                print(\"--------\")\n",
        "                #print(self.w)\n",
        "            else:\n",
        "                print(\"********************************\")\n",
        "                print (\"Maximum accuracy obtained\")\n",
        "                print(\"********************************\")\n",
        "\n",
        "                break ##This stops the loop for continuing once the validation gets to 100%\n",
        "\n",
        "            ##For every iteration we increase the number of iterations by one\n",
        "            iterations += 1\n",
        "            print(f\"Iteration number: {iterations}\")\n",
        "            print(\"********************************\")\n",
        "            \n",
        "            ##We add the condition to stop after 100 iters\n",
        "            if iterations >= MAX_ITERATIONS: \n",
        "                print ('Iterations exceeded!')\n",
        "                break \n"
      ],
      "execution_count": null,
      "outputs": []
    },
    {
      "cell_type": "markdown",
      "metadata": {
        "id": "8zRYpxqsjt4f"
      },
      "source": [
        "## Step 8: Fit new model"
      ]
    },
    {
      "cell_type": "code",
      "metadata": {
        "id": "XZi3qZ2CgYPi",
        "outputId": "c5a4d7cf-ae2f-4036-b7ee-2c6d38381bfc",
        "colab": {
          "base_uri": "https://localhost:8080/",
          "height": 1000
        }
      },
      "source": [
        "## Initialise an object of the class\n",
        "perceptron_nonl = NonLinearPerceptron()\n",
        "## Fit perceptron\n",
        "perceptron_nonl.fit(x_train_nonl, y_train_nonl, x_test_nonl, y_test_nonl)"
      ],
      "execution_count": null,
      "outputs": [
        {
          "output_type": "stream",
          "text": [
            "Predicting...\n",
            "--------\n",
            "Training Accuracy 0.43467336683417085\n",
            "--------\n",
            "Validation Accuracy 0.22807017543859648\n",
            "--------\n",
            "New weights to be calculated\n",
            "--------\n",
            "Iteration number: 1\n",
            "********************************\n",
            "Predicting...\n",
            "--------\n",
            "Training Accuracy 0.5653266331658291\n",
            "--------\n",
            "Validation Accuracy 0.7719298245614035\n",
            "--------\n",
            "New weights to be calculated\n",
            "--------\n",
            "Iteration number: 2\n",
            "********************************\n",
            "Predicting...\n",
            "--------\n",
            "Training Accuracy 0.43467336683417085\n",
            "--------\n",
            "Validation Accuracy 0.22807017543859648\n",
            "--------\n",
            "New weights to be calculated\n",
            "--------\n",
            "Iteration number: 3\n",
            "********************************\n",
            "Predicting...\n",
            "--------\n",
            "Training Accuracy 0.5653266331658291\n",
            "--------\n",
            "Validation Accuracy 0.7719298245614035\n",
            "--------\n",
            "New weights to be calculated\n",
            "--------\n",
            "Iteration number: 4\n",
            "********************************\n",
            "Predicting...\n",
            "--------\n",
            "Training Accuracy 0.43467336683417085\n",
            "--------\n",
            "Validation Accuracy 0.22807017543859648\n",
            "--------\n",
            "New weights to be calculated\n",
            "--------\n",
            "Iteration number: 5\n",
            "********************************\n",
            "Predicting...\n",
            "--------\n",
            "Training Accuracy 0.5653266331658291\n",
            "--------\n",
            "Validation Accuracy 0.7719298245614035\n",
            "--------\n",
            "New weights to be calculated\n",
            "--------\n",
            "Iteration number: 6\n",
            "********************************\n",
            "Predicting...\n",
            "--------\n",
            "Training Accuracy 0.43467336683417085\n",
            "--------\n",
            "Validation Accuracy 0.22807017543859648\n",
            "--------\n",
            "New weights to be calculated\n",
            "--------\n",
            "Iteration number: 7\n",
            "********************************\n",
            "Predicting...\n",
            "--------\n",
            "Training Accuracy 0.43467336683417085\n",
            "--------\n",
            "Validation Accuracy 0.22807017543859648\n",
            "--------\n",
            "New weights to be calculated\n",
            "--------\n",
            "Iteration number: 8\n",
            "********************************\n",
            "Predicting...\n",
            "--------\n",
            "Training Accuracy 0.5653266331658291\n",
            "--------\n",
            "Validation Accuracy 0.7719298245614035\n",
            "--------\n",
            "New weights to be calculated\n",
            "--------\n",
            "Iteration number: 9\n",
            "********************************\n",
            "Predicting...\n",
            "--------\n",
            "Training Accuracy 0.43467336683417085\n",
            "--------\n",
            "Validation Accuracy 0.22807017543859648\n",
            "--------\n",
            "New weights to be calculated\n",
            "--------\n",
            "Iteration number: 10\n",
            "********************************\n",
            "Predicting...\n",
            "--------\n",
            "Training Accuracy 0.5653266331658291\n",
            "--------\n",
            "Validation Accuracy 0.7719298245614035\n",
            "--------\n",
            "New weights to be calculated\n",
            "--------\n",
            "Iteration number: 11\n",
            "********************************\n",
            "Predicting...\n",
            "--------\n",
            "Training Accuracy 0.43467336683417085\n",
            "--------\n",
            "Validation Accuracy 0.22807017543859648\n",
            "--------\n",
            "New weights to be calculated\n",
            "--------\n",
            "Iteration number: 12\n",
            "********************************\n",
            "Predicting...\n",
            "--------\n",
            "Training Accuracy 0.5653266331658291\n",
            "--------\n",
            "Validation Accuracy 0.7719298245614035\n",
            "--------\n",
            "New weights to be calculated\n",
            "--------\n",
            "Iteration number: 13\n",
            "********************************\n",
            "Predicting...\n",
            "--------\n",
            "Training Accuracy 0.43467336683417085\n",
            "--------\n",
            "Validation Accuracy 0.22807017543859648\n",
            "--------\n",
            "New weights to be calculated\n",
            "--------\n",
            "Iteration number: 14\n",
            "********************************\n",
            "Predicting...\n",
            "--------\n",
            "Training Accuracy 0.43467336683417085\n",
            "--------\n",
            "Validation Accuracy 0.22807017543859648\n",
            "--------\n",
            "New weights to be calculated\n",
            "--------\n",
            "Iteration number: 15\n",
            "********************************\n",
            "Predicting...\n",
            "--------\n",
            "Training Accuracy 0.5653266331658291\n",
            "--------\n",
            "Validation Accuracy 0.7719298245614035\n",
            "--------\n",
            "New weights to be calculated\n",
            "--------\n",
            "Iteration number: 16\n",
            "********************************\n",
            "Predicting...\n",
            "--------\n",
            "Training Accuracy 0.43467336683417085\n",
            "--------\n",
            "Validation Accuracy 0.22807017543859648\n",
            "--------\n",
            "New weights to be calculated\n",
            "--------\n",
            "Iteration number: 17\n",
            "********************************\n",
            "Predicting...\n",
            "--------\n",
            "Training Accuracy 0.5653266331658291\n",
            "--------\n",
            "Validation Accuracy 0.7719298245614035\n",
            "--------\n",
            "New weights to be calculated\n",
            "--------\n",
            "Iteration number: 18\n",
            "********************************\n",
            "Predicting...\n",
            "--------\n",
            "Training Accuracy 0.43467336683417085\n",
            "--------\n",
            "Validation Accuracy 0.22807017543859648\n",
            "--------\n",
            "New weights to be calculated\n",
            "--------\n",
            "Iteration number: 19\n",
            "********************************\n",
            "Predicting...\n",
            "--------\n",
            "Training Accuracy 0.5\n",
            "--------\n",
            "Validation Accuracy 0.4502923976608187\n",
            "--------\n",
            "New weights to be calculated\n",
            "--------\n",
            "Iteration number: 20\n",
            "********************************\n",
            "Predicting...\n",
            "--------\n",
            "Training Accuracy 0.43467336683417085\n",
            "--------\n",
            "Validation Accuracy 0.22807017543859648\n",
            "--------\n",
            "New weights to be calculated\n",
            "--------\n",
            "Iteration number: 21\n",
            "********************************\n",
            "Predicting...\n",
            "--------\n",
            "Training Accuracy 0.5452261306532663\n",
            "--------\n",
            "Validation Accuracy 0.4678362573099415\n",
            "--------\n",
            "New weights to be calculated\n",
            "--------\n",
            "Iteration number: 22\n",
            "********************************\n",
            "Predicting...\n",
            "--------\n",
            "Training Accuracy 0.43467336683417085\n",
            "--------\n",
            "Validation Accuracy 0.22807017543859648\n",
            "--------\n",
            "New weights to be calculated\n",
            "--------\n",
            "Iteration number: 23\n",
            "********************************\n",
            "Predicting...\n",
            "--------\n",
            "Training Accuracy 0.5628140703517588\n",
            "--------\n",
            "Validation Accuracy 0.5263157894736842\n",
            "--------\n",
            "New weights to be calculated\n",
            "--------\n",
            "Iteration number: 24\n",
            "********************************\n",
            "Predicting...\n",
            "--------\n",
            "Training Accuracy 0.43467336683417085\n",
            "--------\n",
            "Validation Accuracy 0.22807017543859648\n",
            "--------\n",
            "New weights to be calculated\n",
            "--------\n",
            "Iteration number: 25\n",
            "********************************\n",
            "Predicting...\n",
            "--------\n",
            "Training Accuracy 0.5653266331658291\n",
            "--------\n",
            "Validation Accuracy 0.7719298245614035\n",
            "--------\n",
            "New weights to be calculated\n",
            "--------\n",
            "Iteration number: 26\n",
            "********************************\n",
            "Predicting...\n",
            "--------\n",
            "Training Accuracy 0.43467336683417085\n",
            "--------\n",
            "Validation Accuracy 0.22807017543859648\n",
            "--------\n",
            "New weights to be calculated\n",
            "--------\n",
            "Iteration number: 27\n",
            "********************************\n",
            "Predicting...\n",
            "--------\n",
            "Training Accuracy 0.43467336683417085\n",
            "--------\n",
            "Validation Accuracy 0.22807017543859648\n",
            "--------\n",
            "New weights to be calculated\n",
            "--------\n",
            "Iteration number: 28\n",
            "********************************\n",
            "Predicting...\n",
            "--------\n",
            "Training Accuracy 0.5653266331658291\n",
            "--------\n",
            "Validation Accuracy 0.7719298245614035\n",
            "--------\n",
            "New weights to be calculated\n",
            "--------\n",
            "Iteration number: 29\n",
            "********************************\n",
            "Predicting...\n",
            "--------\n",
            "Training Accuracy 0.43467336683417085\n",
            "--------\n",
            "Validation Accuracy 0.22807017543859648\n",
            "--------\n",
            "New weights to be calculated\n",
            "--------\n",
            "Iteration number: 30\n",
            "********************************\n",
            "Predicting...\n",
            "--------\n",
            "Training Accuracy 0.5653266331658291\n",
            "--------\n",
            "Validation Accuracy 0.7719298245614035\n",
            "--------\n",
            "New weights to be calculated\n",
            "--------\n",
            "Iteration number: 31\n",
            "********************************\n",
            "Predicting...\n",
            "--------\n",
            "Training Accuracy 0.43467336683417085\n",
            "--------\n",
            "Validation Accuracy 0.22807017543859648\n",
            "--------\n",
            "New weights to be calculated\n",
            "--------\n",
            "Iteration number: 32\n",
            "********************************\n",
            "Predicting...\n",
            "--------\n",
            "Training Accuracy 0.4748743718592965\n",
            "--------\n",
            "Validation Accuracy 0.4269005847953216\n",
            "--------\n",
            "New weights to be calculated\n",
            "--------\n",
            "Iteration number: 33\n",
            "********************************\n",
            "Predicting...\n",
            "--------\n",
            "Training Accuracy 0.5653266331658291\n",
            "--------\n",
            "Validation Accuracy 0.7719298245614035\n",
            "--------\n",
            "New weights to be calculated\n",
            "--------\n",
            "Iteration number: 34\n",
            "********************************\n",
            "Predicting...\n",
            "--------\n",
            "Training Accuracy 0.43467336683417085\n",
            "--------\n",
            "Validation Accuracy 0.22807017543859648\n",
            "--------\n",
            "New weights to be calculated\n",
            "--------\n",
            "Iteration number: 35\n",
            "********************************\n",
            "Predicting...\n",
            "--------\n",
            "Training Accuracy 0.5653266331658291\n",
            "--------\n",
            "Validation Accuracy 0.7719298245614035\n",
            "--------\n",
            "New weights to be calculated\n",
            "--------\n",
            "Iteration number: 36\n",
            "********************************\n",
            "Predicting...\n",
            "--------\n",
            "Training Accuracy 0.43467336683417085\n",
            "--------\n",
            "Validation Accuracy 0.22807017543859648\n",
            "--------\n",
            "New weights to be calculated\n",
            "--------\n",
            "Iteration number: 37\n",
            "********************************\n",
            "Predicting...\n",
            "--------\n",
            "Training Accuracy 0.5653266331658291\n",
            "--------\n",
            "Validation Accuracy 0.7719298245614035\n",
            "--------\n",
            "New weights to be calculated\n",
            "--------\n",
            "Iteration number: 38\n",
            "********************************\n",
            "Predicting...\n",
            "--------\n",
            "Training Accuracy 0.43467336683417085\n",
            "--------\n",
            "Validation Accuracy 0.22807017543859648\n",
            "--------\n",
            "New weights to be calculated\n",
            "--------\n",
            "Iteration number: 39\n",
            "********************************\n",
            "Predicting...\n",
            "--------\n",
            "Training Accuracy 0.4371859296482412\n",
            "--------\n",
            "Validation Accuracy 0.26900584795321636\n",
            "--------\n",
            "New weights to be calculated\n",
            "--------\n",
            "Iteration number: 40\n",
            "********************************\n",
            "Predicting...\n",
            "--------\n",
            "Training Accuracy 0.5653266331658291\n",
            "--------\n",
            "Validation Accuracy 0.7719298245614035\n",
            "--------\n",
            "New weights to be calculated\n",
            "--------\n",
            "Iteration number: 41\n",
            "********************************\n",
            "Predicting...\n",
            "--------\n",
            "Training Accuracy 0.43467336683417085\n",
            "--------\n",
            "Validation Accuracy 0.22807017543859648\n",
            "--------\n",
            "New weights to be calculated\n",
            "--------\n",
            "Iteration number: 42\n",
            "********************************\n",
            "Predicting...\n",
            "--------\n",
            "Training Accuracy 0.5653266331658291\n",
            "--------\n",
            "Validation Accuracy 0.7719298245614035\n",
            "--------\n",
            "New weights to be calculated\n",
            "--------\n",
            "Iteration number: 43\n",
            "********************************\n",
            "Predicting...\n",
            "--------\n",
            "Training Accuracy 0.43467336683417085\n",
            "--------\n",
            "Validation Accuracy 0.22807017543859648\n",
            "--------\n",
            "New weights to be calculated\n",
            "--------\n",
            "Iteration number: 44\n",
            "********************************\n",
            "Predicting...\n",
            "--------\n",
            "Training Accuracy 0.6256281407035176\n",
            "--------\n",
            "Validation Accuracy 0.7192982456140351\n",
            "--------\n",
            "New weights to be calculated\n",
            "--------\n",
            "Iteration number: 45\n",
            "********************************\n",
            "Predicting...\n",
            "--------\n",
            "Training Accuracy 0.43467336683417085\n",
            "--------\n",
            "Validation Accuracy 0.22807017543859648\n",
            "--------\n",
            "New weights to be calculated\n",
            "--------\n",
            "Iteration number: 46\n",
            "********************************\n",
            "Predicting...\n",
            "--------\n",
            "Training Accuracy 0.5804020100502513\n",
            "--------\n",
            "Validation Accuracy 0.7602339181286549\n",
            "--------\n",
            "New weights to be calculated\n",
            "--------\n",
            "Iteration number: 47\n",
            "********************************\n",
            "Predicting...\n",
            "--------\n",
            "Training Accuracy 0.43467336683417085\n",
            "--------\n",
            "Validation Accuracy 0.22807017543859648\n",
            "--------\n",
            "New weights to be calculated\n",
            "--------\n",
            "Iteration number: 48\n",
            "********************************\n",
            "Predicting...\n",
            "--------\n",
            "Training Accuracy 0.43467336683417085\n",
            "--------\n",
            "Validation Accuracy 0.23976608187134502\n",
            "--------\n",
            "New weights to be calculated\n",
            "--------\n",
            "Iteration number: 49\n",
            "********************************\n",
            "Predicting...\n",
            "--------\n",
            "Training Accuracy 0.5653266331658291\n",
            "--------\n",
            "Validation Accuracy 0.7719298245614035\n",
            "--------\n",
            "New weights to be calculated\n",
            "--------\n",
            "Iteration number: 50\n",
            "********************************\n",
            "Predicting...\n",
            "--------\n",
            "Training Accuracy 0.43467336683417085\n",
            "--------\n",
            "Validation Accuracy 0.22807017543859648\n",
            "--------\n",
            "New weights to be calculated\n",
            "--------\n",
            "Iteration number: 51\n",
            "********************************\n",
            "Predicting...\n",
            "--------\n",
            "Training Accuracy 0.5653266331658291\n",
            "--------\n",
            "Validation Accuracy 0.7719298245614035\n",
            "--------\n",
            "New weights to be calculated\n",
            "--------\n",
            "Iteration number: 52\n",
            "********************************\n",
            "Predicting...\n",
            "--------\n",
            "Training Accuracy 0.43467336683417085\n",
            "--------\n",
            "Validation Accuracy 0.22807017543859648\n",
            "--------\n",
            "New weights to be calculated\n",
            "--------\n",
            "Iteration number: 53\n",
            "********************************\n",
            "Predicting...\n",
            "--------\n",
            "Training Accuracy 0.45979899497487436\n",
            "--------\n",
            "Validation Accuracy 0.38596491228070173\n",
            "--------\n",
            "New weights to be calculated\n",
            "--------\n",
            "Iteration number: 54\n",
            "********************************\n",
            "Predicting...\n",
            "--------\n",
            "Training Accuracy 0.5653266331658291\n",
            "--------\n",
            "Validation Accuracy 0.7719298245614035\n",
            "--------\n",
            "New weights to be calculated\n",
            "--------\n",
            "Iteration number: 55\n",
            "********************************\n",
            "Predicting...\n",
            "--------\n",
            "Training Accuracy 0.43467336683417085\n",
            "--------\n",
            "Validation Accuracy 0.22807017543859648\n",
            "--------\n",
            "New weights to be calculated\n",
            "--------\n",
            "Iteration number: 56\n",
            "********************************\n",
            "Predicting...\n",
            "--------\n",
            "Training Accuracy 0.5653266331658291\n",
            "--------\n",
            "Validation Accuracy 0.7719298245614035\n",
            "--------\n",
            "New weights to be calculated\n",
            "--------\n",
            "Iteration number: 57\n",
            "********************************\n",
            "Predicting...\n",
            "--------\n",
            "Training Accuracy 0.43467336683417085\n",
            "--------\n",
            "Validation Accuracy 0.22807017543859648\n",
            "--------\n",
            "New weights to be calculated\n",
            "--------\n",
            "Iteration number: 58\n",
            "********************************\n",
            "Predicting...\n",
            "--------\n",
            "Training Accuracy 0.6105527638190955\n",
            "--------\n",
            "Validation Accuracy 0.7602339181286549\n",
            "--------\n",
            "New weights to be calculated\n",
            "--------\n",
            "Iteration number: 59\n",
            "********************************\n",
            "Predicting...\n",
            "--------\n",
            "Training Accuracy 0.43467336683417085\n",
            "--------\n",
            "Validation Accuracy 0.22807017543859648\n",
            "--------\n",
            "New weights to be calculated\n",
            "--------\n",
            "Iteration number: 60\n",
            "********************************\n",
            "Predicting...\n",
            "--------\n",
            "Training Accuracy 0.5753768844221105\n",
            "--------\n",
            "Validation Accuracy 0.7719298245614035\n",
            "--------\n",
            "New weights to be calculated\n",
            "--------\n",
            "Iteration number: 61\n",
            "********************************\n",
            "Predicting...\n",
            "--------\n",
            "Training Accuracy 0.43467336683417085\n",
            "--------\n",
            "Validation Accuracy 0.22807017543859648\n",
            "--------\n",
            "New weights to be calculated\n",
            "--------\n",
            "Iteration number: 62\n",
            "********************************\n",
            "Predicting...\n",
            "--------\n",
            "Training Accuracy 0.4371859296482412\n",
            "--------\n",
            "Validation Accuracy 0.26900584795321636\n",
            "--------\n",
            "New weights to be calculated\n",
            "--------\n",
            "Iteration number: 63\n",
            "********************************\n",
            "Predicting...\n",
            "--------\n",
            "Training Accuracy 0.5653266331658291\n",
            "--------\n",
            "Validation Accuracy 0.7719298245614035\n",
            "--------\n",
            "New weights to be calculated\n",
            "--------\n",
            "Iteration number: 64\n",
            "********************************\n",
            "Predicting...\n",
            "--------\n",
            "Training Accuracy 0.43467336683417085\n",
            "--------\n",
            "Validation Accuracy 0.22807017543859648\n",
            "--------\n",
            "New weights to be calculated\n",
            "--------\n",
            "Iteration number: 65\n",
            "********************************\n",
            "Predicting...\n",
            "--------\n",
            "Training Accuracy 0.5653266331658291\n",
            "--------\n",
            "Validation Accuracy 0.7719298245614035\n",
            "--------\n",
            "New weights to be calculated\n",
            "--------\n",
            "Iteration number: 66\n",
            "********************************\n",
            "Predicting...\n",
            "--------\n",
            "Training Accuracy 0.43467336683417085\n",
            "--------\n",
            "Validation Accuracy 0.22807017543859648\n",
            "--------\n",
            "New weights to be calculated\n",
            "--------\n",
            "Iteration number: 67\n",
            "********************************\n",
            "Predicting...\n",
            "--------\n",
            "Training Accuracy 0.542713567839196\n",
            "--------\n",
            "Validation Accuracy 0.47953216374269003\n",
            "--------\n",
            "New weights to be calculated\n",
            "--------\n",
            "Iteration number: 68\n",
            "********************************\n",
            "Predicting...\n",
            "--------\n",
            "Training Accuracy 0.43467336683417085\n",
            "--------\n",
            "Validation Accuracy 0.22807017543859648\n",
            "--------\n",
            "New weights to be calculated\n",
            "--------\n",
            "Iteration number: 69\n",
            "********************************\n",
            "Predicting...\n",
            "--------\n",
            "Training Accuracy 0.6055276381909548\n",
            "--------\n",
            "Validation Accuracy 0.6900584795321637\n",
            "--------\n",
            "New weights to be calculated\n",
            "--------\n",
            "Iteration number: 70\n",
            "********************************\n",
            "Predicting...\n",
            "--------\n",
            "Training Accuracy 0.43467336683417085\n",
            "--------\n",
            "Validation Accuracy 0.22807017543859648\n",
            "--------\n",
            "New weights to be calculated\n",
            "--------\n",
            "Iteration number: 71\n",
            "********************************\n",
            "Predicting...\n",
            "--------\n",
            "Training Accuracy 0.6206030150753769\n",
            "--------\n",
            "Validation Accuracy 0.7660818713450293\n",
            "--------\n",
            "New weights to be calculated\n",
            "--------\n",
            "Iteration number: 72\n",
            "********************************\n",
            "Predicting...\n",
            "--------\n",
            "Training Accuracy 0.43467336683417085\n",
            "--------\n",
            "Validation Accuracy 0.22807017543859648\n",
            "--------\n",
            "New weights to be calculated\n",
            "--------\n",
            "Iteration number: 73\n",
            "********************************\n",
            "Predicting...\n",
            "--------\n",
            "Training Accuracy 0.4371859296482412\n",
            "--------\n",
            "Validation Accuracy 0.2573099415204678\n",
            "--------\n",
            "New weights to be calculated\n",
            "--------\n",
            "Iteration number: 74\n",
            "********************************\n",
            "Predicting...\n",
            "--------\n",
            "Training Accuracy 0.5653266331658291\n",
            "--------\n",
            "Validation Accuracy 0.7719298245614035\n",
            "--------\n",
            "New weights to be calculated\n",
            "--------\n",
            "Iteration number: 75\n",
            "********************************\n",
            "Predicting...\n",
            "--------\n",
            "Training Accuracy 0.43467336683417085\n",
            "--------\n",
            "Validation Accuracy 0.22807017543859648\n",
            "--------\n",
            "New weights to be calculated\n",
            "--------\n",
            "Iteration number: 76\n",
            "********************************\n",
            "Predicting...\n",
            "--------\n",
            "Training Accuracy 0.5678391959798995\n",
            "--------\n",
            "Validation Accuracy 0.7719298245614035\n",
            "--------\n",
            "New weights to be calculated\n",
            "--------\n",
            "Iteration number: 77\n",
            "********************************\n",
            "Predicting...\n",
            "--------\n",
            "Training Accuracy 0.43467336683417085\n",
            "--------\n",
            "Validation Accuracy 0.22807017543859648\n",
            "--------\n",
            "New weights to be calculated\n",
            "--------\n",
            "Iteration number: 78\n",
            "********************************\n",
            "Predicting...\n",
            "--------\n",
            "Training Accuracy 0.4472361809045226\n",
            "--------\n",
            "Validation Accuracy 0.30994152046783624\n",
            "--------\n",
            "New weights to be calculated\n",
            "--------\n",
            "Iteration number: 79\n",
            "********************************\n",
            "Predicting...\n",
            "--------\n",
            "Training Accuracy 0.5653266331658291\n",
            "--------\n",
            "Validation Accuracy 0.7719298245614035\n",
            "--------\n",
            "New weights to be calculated\n",
            "--------\n",
            "Iteration number: 80\n",
            "********************************\n",
            "Predicting...\n",
            "--------\n",
            "Training Accuracy 0.43467336683417085\n",
            "--------\n",
            "Validation Accuracy 0.22807017543859648\n",
            "--------\n",
            "New weights to be calculated\n",
            "--------\n",
            "Iteration number: 81\n",
            "********************************\n",
            "Predicting...\n",
            "--------\n",
            "Training Accuracy 0.5653266331658291\n",
            "--------\n",
            "Validation Accuracy 0.7719298245614035\n",
            "--------\n",
            "New weights to be calculated\n",
            "--------\n",
            "Iteration number: 82\n",
            "********************************\n",
            "Predicting...\n",
            "--------\n",
            "Training Accuracy 0.43467336683417085\n",
            "--------\n",
            "Validation Accuracy 0.22807017543859648\n",
            "--------\n",
            "New weights to be calculated\n",
            "--------\n",
            "Iteration number: 83\n",
            "********************************\n",
            "Predicting...\n",
            "--------\n",
            "Training Accuracy 0.5829145728643216\n",
            "--------\n",
            "Validation Accuracy 0.5789473684210527\n",
            "--------\n",
            "New weights to be calculated\n",
            "--------\n",
            "Iteration number: 84\n",
            "********************************\n",
            "Predicting...\n",
            "--------\n",
            "Training Accuracy 0.43467336683417085\n",
            "--------\n",
            "Validation Accuracy 0.22807017543859648\n",
            "--------\n",
            "New weights to be calculated\n",
            "--------\n",
            "Iteration number: 85\n",
            "********************************\n",
            "Predicting...\n",
            "--------\n",
            "Training Accuracy 0.6331658291457286\n",
            "--------\n",
            "Validation Accuracy 0.7543859649122807\n",
            "--------\n",
            "New weights to be calculated\n",
            "--------\n",
            "Iteration number: 86\n",
            "********************************\n",
            "Predicting...\n",
            "--------\n",
            "Training Accuracy 0.43467336683417085\n",
            "--------\n",
            "Validation Accuracy 0.22807017543859648\n",
            "--------\n",
            "New weights to be calculated\n",
            "--------\n",
            "Iteration number: 87\n",
            "********************************\n",
            "Predicting...\n",
            "--------\n",
            "Training Accuracy 0.5904522613065326\n",
            "--------\n",
            "Validation Accuracy 0.7719298245614035\n",
            "--------\n",
            "New weights to be calculated\n",
            "--------\n",
            "Iteration number: 88\n",
            "********************************\n",
            "Predicting...\n",
            "--------\n",
            "Training Accuracy 0.43467336683417085\n",
            "--------\n",
            "Validation Accuracy 0.22807017543859648\n",
            "--------\n",
            "New weights to be calculated\n",
            "--------\n",
            "Iteration number: 89\n",
            "********************************\n",
            "Predicting...\n",
            "--------\n",
            "Training Accuracy 0.4371859296482412\n",
            "--------\n",
            "Validation Accuracy 0.27485380116959063\n",
            "--------\n",
            "New weights to be calculated\n",
            "--------\n",
            "Iteration number: 90\n",
            "********************************\n",
            "Predicting...\n",
            "--------\n",
            "Training Accuracy 0.5653266331658291\n",
            "--------\n",
            "Validation Accuracy 0.7719298245614035\n",
            "--------\n",
            "New weights to be calculated\n",
            "--------\n",
            "Iteration number: 91\n",
            "********************************\n",
            "Predicting...\n",
            "--------\n",
            "Training Accuracy 0.43467336683417085\n",
            "--------\n",
            "Validation Accuracy 0.22807017543859648\n",
            "--------\n",
            "New weights to be calculated\n",
            "--------\n",
            "Iteration number: 92\n",
            "********************************\n",
            "Predicting...\n",
            "--------\n",
            "Training Accuracy 0.5653266331658291\n",
            "--------\n",
            "Validation Accuracy 0.7719298245614035\n",
            "--------\n",
            "New weights to be calculated\n",
            "--------\n",
            "Iteration number: 93\n",
            "********************************\n",
            "Predicting...\n",
            "--------\n",
            "Training Accuracy 0.43467336683417085\n",
            "--------\n",
            "Validation Accuracy 0.22807017543859648\n",
            "--------\n",
            "New weights to be calculated\n",
            "--------\n",
            "Iteration number: 94\n",
            "********************************\n",
            "Predicting...\n",
            "--------\n",
            "Training Accuracy 0.542713567839196\n",
            "--------\n",
            "Validation Accuracy 0.47953216374269003\n",
            "--------\n",
            "New weights to be calculated\n",
            "--------\n",
            "Iteration number: 95\n",
            "********************************\n",
            "Predicting...\n",
            "--------\n",
            "Training Accuracy 0.43467336683417085\n",
            "--------\n",
            "Validation Accuracy 0.22807017543859648\n",
            "--------\n",
            "New weights to be calculated\n",
            "--------\n",
            "Iteration number: 96\n",
            "********************************\n",
            "Predicting...\n",
            "--------\n",
            "Training Accuracy 0.6030150753768844\n",
            "--------\n",
            "Validation Accuracy 0.6549707602339181\n",
            "--------\n",
            "New weights to be calculated\n",
            "--------\n",
            "Iteration number: 97\n",
            "********************************\n",
            "Predicting...\n",
            "--------\n",
            "Training Accuracy 0.43467336683417085\n",
            "--------\n",
            "Validation Accuracy 0.22807017543859648\n",
            "--------\n",
            "New weights to be calculated\n",
            "--------\n",
            "Iteration number: 98\n",
            "********************************\n",
            "Predicting...\n",
            "--------\n",
            "Training Accuracy 0.6231155778894473\n",
            "--------\n",
            "Validation Accuracy 0.7602339181286549\n",
            "--------\n",
            "New weights to be calculated\n",
            "--------\n",
            "Iteration number: 99\n",
            "********************************\n",
            "Predicting...\n",
            "--------\n",
            "Training Accuracy 0.43467336683417085\n",
            "--------\n",
            "Validation Accuracy 0.22807017543859648\n",
            "--------\n",
            "New weights to be calculated\n",
            "--------\n",
            "Iteration number: 100\n",
            "********************************\n",
            "Iterations exceeded!\n"
          ],
          "name": "stdout"
        }
      ]
    },
    {
      "cell_type": "markdown",
      "metadata": {
        "id": "7faTPGRMjw5X"
      },
      "source": [
        "## Step 9: Analise results"
      ]
    },
    {
      "cell_type": "code",
      "metadata": {
        "id": "WLdyiZSMjzU3",
        "outputId": "716908bd-15e3-433a-ed10-6d32c26e3280",
        "colab": {
          "base_uri": "https://localhost:8080/",
          "height": 34
        }
      },
      "source": [
        "## Call the predict method for the test data \n",
        "pred_test_nonl = perceptron_nonl.predict(x_test_nonl)\n",
        "test_acc_nonl = np.count_nonzero (pred_test_nonl == y_test_nonl) / len(y_test_nonl)\n",
        "print (f\"Test accuracy: {test_acc_nonl}\")"
      ],
      "execution_count": null,
      "outputs": [
        {
          "output_type": "stream",
          "text": [
            "Test accuracy: 0.7602339181286549\n"
          ],
          "name": "stdout"
        }
      ]
    },
    {
      "cell_type": "markdown",
      "metadata": {
        "id": "8zlv3oyrahM3"
      },
      "source": [
        "## Step 10: Compare againts off-the-shelf"
      ]
    },
    {
      "cell_type": "code",
      "metadata": {
        "id": "TZyoJ_tTkVAU"
      },
      "source": [
        "from sklearn.linear_model import Perceptron\n",
        "\n",
        "skpercep = Perceptron()"
      ],
      "execution_count": null,
      "outputs": []
    },
    {
      "cell_type": "code",
      "metadata": {
        "id": "erIAWfCxkVAX",
        "outputId": "4efdb74b-894b-4791-8d3b-280660ee5ee1",
        "colab": {
          "base_uri": "https://localhost:8080/",
          "height": 85
        }
      },
      "source": [
        "skpercep.fit(x_train_nonl, y_train_nonl)"
      ],
      "execution_count": null,
      "outputs": [
        {
          "output_type": "execute_result",
          "data": {
            "text/plain": [
              "Perceptron(alpha=0.0001, class_weight=None, early_stopping=False, eta0=1.0,\n",
              "           fit_intercept=True, max_iter=1000, n_iter_no_change=5, n_jobs=None,\n",
              "           penalty=None, random_state=0, shuffle=True, tol=0.001,\n",
              "           validation_fraction=0.1, verbose=0, warm_start=False)"
            ]
          },
          "metadata": {
            "tags": []
          },
          "execution_count": 26
        }
      ]
    },
    {
      "cell_type": "code",
      "metadata": {
        "id": "OPiHpBTCkVAZ",
        "outputId": "eaf23f6b-0d4a-41ec-8708-70eda99386e2",
        "colab": {
          "base_uri": "https://localhost:8080/",
          "height": 34
        }
      },
      "source": [
        "skpred_nonl = skpercep.predict(x_test_nonl)\n",
        "\n",
        "sktest_acc_nonl = np.count_nonzero (skpred_nonl == y_test_nonl) / len(y_test_nonl)\n",
        "print (f\"Test accuracy according to Sklearn's models: {sktest_acc_nonl}\")"
      ],
      "execution_count": null,
      "outputs": [
        {
          "output_type": "stream",
          "text": [
            "Test accuracy according to Sklearn's models: 0.7309941520467836\n"
          ],
          "name": "stdout"
        }
      ]
    }
  ]
}